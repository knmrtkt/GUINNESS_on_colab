{
 "metadata": {
  "language_info": {
   "codemirror_mode": {
    "name": "ipython",
    "version": 3
   },
   "file_extension": ".py",
   "mimetype": "text/x-python",
   "name": "python",
   "nbconvert_exporter": "python",
   "pygments_lexer": "ipython3",
   "version": "3.6.9"
  },
  "orig_nbformat": 2,
  "kernelspec": {
   "name": "python369jvsc74a57bd031f2aee4e71d21fbe5cf8b01ff0e069b9275f58929596ceb00d14d90e3e16cd6",
   "display_name": "Python 3.6.9 64-bit"
  }
 },
 "nbformat": 4,
 "nbformat_minor": 2,
 "cells": [
  {
   "source": [
    "# Generate BNN for road tracking\n",
    "Note!!\n",
    "\n",
    "Select GPU runtime from the upper menu before executing the below steps.\n",
    "\n",
    "1. Import and config "
   ],
   "cell_type": "markdown",
   "metadata": {}
  },
  {
   "source": [
    "import os\n",
    "import datetime\n",
    "import cv2\n",
    "\n",
    "!pip3 install 'cupy-cuda101>=7.7.0,<8.0.0'\n",
    "!pip3 install chainer"
   ],
   "cell_type": "code",
   "metadata": {},
   "execution_count": null,
   "outputs": []
  },
  {
   "source": [
    "2. Download GUINNESS repository from github"
   ],
   "cell_type": "markdown",
   "metadata": {}
  },
  {
   "cell_type": "code",
   "execution_count": null,
   "metadata": {},
   "outputs": [],
   "source": [
    "%cd /content\n",
    "if (os.path.exists('/content/GUINNESS_on_colab')==False):\n",
    "    !git clone https://github.com/knmrtkt/GUINNESS_on_colab.git\n",
    "else:\n",
    "    !git pull\n",
    "%cd GUINNESS_on_colab\n",
    "!git pull"
   ]
  },
  {
   "source": [
    "3. Generate line images and convert line images to datasets for GUINNESS\n",
    "\n",
    "Note!!\n",
    "\n",
    "If you want to modify the line generate algorithm, please modify this cell."
   ],
   "cell_type": "markdown",
   "metadata": {}
  },
  {
   "cell_type": "code",
   "execution_count": null,
   "metadata": {},
   "outputs": [],
   "source": [
    "###############################################\n",
    "img_size = 32\n",
    "marker_type = 'vline'\n",
    "img_num = 9000\n",
    "DatasetName = 'roadtracking_' + str(img_size)\n",
    "###############################################\n",
    "\n",
    "import os\n",
    "import csv\n",
    "import cv2\n",
    "import numpy as np\n",
    "\n",
    "class gen_line_image():\n",
    "    def __init__(self):\n",
    "        pass\n",
    "    def generate_point(self, W, H, r):\n",
    "        if(0 <= r < W):\n",
    "            return r, 0\n",
    "        elif(0 <= r< (W+H)):\n",
    "            return W, r-W\n",
    "        elif((W+H) <= r < (2*W+H)):\n",
    "            return (2*W+H)-r, W\n",
    "        elif((2*W+H) <= r < (2*W+2*H)):\n",
    "            return 0, (2*W+2*H)-r\n",
    "        return 0,0\n",
    "\n",
    "    def get_domain_from_coord(self, W, H, r, domain_num_W, domain_num_H):\n",
    "        if(0 <= r < W):\n",
    "            return int(r/(W/domain_num_W))\n",
    "        elif(0 <= r < (W + H)):\n",
    "            return domain_num_W + int((r-W)/(W/domain_num_H))\n",
    "        elif((W + H) <= r < (2*W + H)):\n",
    "            return domain_num_W + domain_num_H + int((r-W-H)/(W/domain_num_W))\n",
    "        else:\n",
    "            return 2*domain_num_W + domain_num_H + int((r-2*W-H)/(H/domain_num_H))\n",
    "\n",
    "    def begin_or_end(self, a, b, domain_a, domain_b):\n",
    "        if(a[1] > b[1]):\n",
    "            a, b = b, a\n",
    "            domain_a, domain_b = domain_b, domain_a\n",
    "        return a, b, domain_a, domain_b\n",
    "\n",
    "    def get_label_from_domain(self, domain_begin, domain_end):\n",
    "        if(domain_begin==0):\n",
    "            if(4<=domain_end<=8):\n",
    "                return \"left\"\n",
    "            elif(domain_end==3 or domain_end==9):\n",
    "                return \"straight\"\n",
    "        elif(domain_begin==1):\n",
    "            if(3<=domain_end<=9):\n",
    "                return \"straight\"\n",
    "        elif(domain_begin==2):\n",
    "            if(4<=domain_end<=8):\n",
    "                return \"right\"\n",
    "            elif(domain_end==3 or domain_end==9):\n",
    "                return \"straight\"\n",
    "        elif(domain_begin==3):\n",
    "            if(5<=domain_end<=8):\n",
    "                return \"right\"\n",
    "        elif(domain_begin==9):\n",
    "            if(4<=domain_end<=7):\n",
    "                return \"left\"\n",
    "        return \"none\"\n",
    "\n",
    "    def generate_image(self, W, H, domain_num_W, domain_num_H, dst_dir, csv_name, img_num, line_width, class_label, marker_type='none'):\n",
    "        ## threshold for excepting short line\n",
    "        th = (W//2)**2\n",
    "        color=0\n",
    "        np.random.seed(seed=0)\n",
    "        ## generate directory\n",
    "        for dir_no in class_label.values():\n",
    "            os.makedirs(dst_dir + dir_no, exist_ok=True)\n",
    "        ## generate line image\n",
    "        with open(dst_dir + csv_name, 'w') as f:\n",
    "            writer = csv.writer(f)\n",
    "            writer.writerow(['path','label'])\n",
    "            generated = {}\n",
    "            for label in class_label:\n",
    "                generated[label] = 0\n",
    "            while(sum(generated.values()) < img_num):\n",
    "                image = np.zeros((H,W,1), dtype=np.uint8)\n",
    "                image.fill(255)\n",
    "                r_a = np.random.randint(0, 2*W + 2*H)\n",
    "                r_b = np.random.randint(0, 2*W + 2*H)\n",
    "                a = self.generate_point(W, H, r_a)\n",
    "                b = self.generate_point(W, H, r_b)\n",
    "                domain_a = self.get_domain_from_coord(W, H, r_a, domain_num_W, domain_num_H)\n",
    "                domain_b = self.get_domain_from_coord(W, H, r_b, domain_num_W, domain_num_H)\n",
    "                begin, end, domain_begin, domain_end = self.begin_or_end(a, b, domain_a, domain_b)\n",
    "                label = self.get_label_from_domain(domain_begin, domain_end)\n",
    "                ## except none label image and extreamly short line\n",
    "                if((label == 'none' or (begin[0]-end[0])**2 + (begin[1]-end[1])**2 < th) or (generated[label] >= img_num//len(class_label))):\n",
    "                    continue\n",
    "                image = cv2.line(image, begin, end ,color, line_width)\n",
    "                ## thick line\n",
    "                #image = cv2.line(image, begin, (end[0]+line_width//2, end[1]), color, line_width)\n",
    "                #image = cv2.line(image, begin, (end[0]-line_width//2, end[1]), color, line_width)\n",
    "\n",
    "                if(marker_type=='none'):\n",
    "                    pass\n",
    "                elif(marker_type=='vline'):\n",
    "                    image = cv2.line(image, (line_width,0), (line_width, H), color, 1)\n",
    "                elif(marker_type=='cross'):\n",
    "                    image = cv2.line(image, (0,H-line_width), (W, H-line_width), color, line_width//2)\n",
    "                    image = cv2.line(image, (line_width,0), (line_width, H), color, line_width//2)\n",
    "                elif(marker_type=='point'):\n",
    "                    image = cv2.rectangle(image, (line_width, H-2*line_width), (2*line_width, H-line_width), color, -1)\n",
    "                elif(marker_type=='rectangle'):\n",
    "                    image = cv2.rectangle(image, (line_width, H-3*line_width), (2*line_width, H-line_width), color, -1)\n",
    "                elif(marker_type=='three'):\n",
    "                    image = cv2.rectangle(image, (line_width, H-2*line_width), (2*line_width, H-line_width), color, -1)\n",
    "                \n",
    "                cv2.imwrite(dst_dir + class_label[label] + \"/\" + str(generated[label]) + \".png\", image)\n",
    "                writer.writerow(['./'+dst_dir +class_label[label] + \"/\" + str(generated[label]) + \".png\",class_label[label]])\n",
    "                generated[label] = generated[label] + 1\n",
    "\n",
    "\n",
    "%cd /content\n",
    "img_gen = gen_line_image()\n",
    "img_gen.generate_image(img_size, img_size, 3, 2, 'roadtracking/', 'dataset.csv', img_num, 5, {\"straight\" : \"0\", \"right\" : \"1\", \"left\" : \"2\",}, marker_type=marker_type)\n",
    "!rm roadtracking/dataset.csv\n",
    "%cd /content/GUINNESS_on_colab\n",
    "!ls -1 -d ../roadtracking/* > list_tmp1.txt\n",
    "!ls -1 ../roadtracking > list_tmp2.txt\n",
    "!paste -d ' ' list_tmp1.txt list_tmp2.txt > ../GUINNESS_on_colab/list.txt\n",
    "!rm list_tmp1.txt list_tmp2.txt\n",
    "!python3 gen_training_data.py --pathfile list.txt --dataset $DatasetName --size $img_size --keepaspect yes"
   ]
  },
  {
   "source": [
    "4. Training"
   ],
   "cell_type": "markdown",
   "metadata": {}
  },
  {
   "cell_type": "code",
   "execution_count": null,
   "metadata": {},
   "outputs": [],
   "source": [
    "###############################################\n",
    "epoch = 10\n",
    "net_name = 'VGG9ave'\n",
    "batch_size = 100\n",
    "ProjectName = 'Project_BNN'\n",
    "###############################################\n",
    "\n",
    "%cd /content/GUINNESS_on_colab\n",
    "!python3 guinness.py $ProjectName $DatasetName $epoch --netName=$net_name --batchSize=$batch_size"
   ]
  },
  {
   "source": [
    "5. Evaluation"
   ],
   "cell_type": "markdown",
   "metadata": {}
  },
  {
   "cell_type": "code",
   "execution_count": null,
   "metadata": {},
   "outputs": [],
   "source": [
    "%cd /content/GUINNESS_on_colab/$ProjectName\n",
    "!python3 eval.py --dataset ../$DatasetName --size $img_size --testnum 100 > eval_result.txt"
   ]
  },
  {
   "source": [
    "6. Download the project folder"
   ],
   "cell_type": "markdown",
   "metadata": {}
  },
  {
   "cell_type": "code",
   "execution_count": null,
   "metadata": {},
   "outputs": [],
   "source": [
    "%cd /content/GUINNESS_on_colab/\n",
    "ProjectZipPath = '/content/GUINNESS_on_colab/' + ProjectName + '.zip'\n",
    "!zip -r $ProjectZipPath /content/GUINNESS_on_colab/$ProjectName\n",
    "from google.colab import files\n",
    "files.download(ProjectZipPath)"
   ]
  }
 ]
}